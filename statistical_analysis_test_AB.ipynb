{
 "cells": [
  {
   "cell_type": "markdown",
   "id": "4709fd27-53bc-4cb8-af4b-0496640593bf",
   "metadata": {},
   "source": [
    "<h1><title> Sprint Project 8: Data Analysis for Zuber Company </title> <h1>\n",
    "\n",
    "<h3>Project Objective: </h3>\n",
    "\n",
    "1. Identify the 10 most popular travel destinations.\n",
    "2. Analyse the number of trips per transportation company.\n",
    "3. Estimate the correlation between trip duration from Loop to O'Hare using a hypothesis test.\n",
    "\n",
    "<h3> Analysis Process Description: </h3>\n",
    "\n",
    "The dataset consists of three tables: moved_project_sql_result_01, moved_project_sql_result_04, and moved_project_sql_result_07. The tables will be initially imported and inspected. Missing values, duplicates, and data types will then be cleaned and corrected. Once the data is prepared through descriptive statistics and inferential statistics, the analysis objectives will be addressed, and conclusions will be drawn.\n",
    "\n",
    "\n",
    "<h3> Library and Data Import </h3>\n"
   ]
  },
  {
   "cell_type": "markdown",
   "id": "bf1938b5-bf1d-4f80-af2c-3323045ad808",
   "metadata": {},
   "source": [
    "Library import:"
   ]
  },
  {
   "cell_type": "code",
   "execution_count": 1,
   "id": "f6c509c8-548b-4ea3-91bd-92d23bd7b590",
   "metadata": {},
   "outputs": [],
   "source": [
    "from scipy import stats as st\n",
    "import numpy as np\n",
    "import pandas as pd\n",
    "from matplotlib import pyplot as plt"
   ]
  },
  {
   "cell_type": "markdown",
   "id": "c596addf-e3f4-4904-b8ba-061cd7bbcd62",
   "metadata": {},
   "source": [
    "Data import:"
   ]
  },
  {
   "cell_type": "code",
   "execution_count": 2,
   "id": "98df36bd-febd-41f3-95e2-79b58a7b4167",
   "metadata": {},
   "outputs": [],
   "source": [
    "table_1=pd.read_csv('moved_project_sql_result_01.csv')\n",
    "table_2=pd.read_csv('moved_project_sql_result_04.csv')\n",
    "table_3=pd.read_csv('moved_project_sql_result_07.csv')"
   ]
  },
  {
   "cell_type": "markdown",
   "id": "1f293e9a-8a9d-4dad-955e-a70d289311ca",
   "metadata": {},
   "source": [
    "Data exploration:"
   ]
  },
  {
   "cell_type": "code",
   "execution_count": 3,
   "id": "e72b4c05-f8b3-4f30-a4c9-e2c458d21328",
   "metadata": {},
   "outputs": [
    {
     "name": "stdout",
     "output_type": "stream",
     "text": [
      "<class 'pandas.core.frame.DataFrame'>\n",
      "RangeIndex: 64 entries, 0 to 63\n",
      "Data columns (total 2 columns):\n",
      " #   Column        Non-Null Count  Dtype \n",
      "---  ------        --------------  ----- \n",
      " 0   company_name  64 non-null     object\n",
      " 1   trips_amount  64 non-null     int64 \n",
      "dtypes: int64(1), object(1)\n",
      "memory usage: 1.1+ KB\n",
      "\n"
     ]
    },
    {
     "data": {
      "text/html": [
       "<div>\n",
       "<style scoped>\n",
       "    .dataframe tbody tr th:only-of-type {\n",
       "        vertical-align: middle;\n",
       "    }\n",
       "\n",
       "    .dataframe tbody tr th {\n",
       "        vertical-align: top;\n",
       "    }\n",
       "\n",
       "    .dataframe thead th {\n",
       "        text-align: right;\n",
       "    }\n",
       "</style>\n",
       "<table border=\"1\" class=\"dataframe\">\n",
       "  <thead>\n",
       "    <tr style=\"text-align: right;\">\n",
       "      <th></th>\n",
       "      <th>company_name</th>\n",
       "      <th>trips_amount</th>\n",
       "    </tr>\n",
       "  </thead>\n",
       "  <tbody>\n",
       "    <tr>\n",
       "      <th>0</th>\n",
       "      <td>Flash Cab</td>\n",
       "      <td>19558</td>\n",
       "    </tr>\n",
       "    <tr>\n",
       "      <th>1</th>\n",
       "      <td>Taxi Affiliation Services</td>\n",
       "      <td>11422</td>\n",
       "    </tr>\n",
       "    <tr>\n",
       "      <th>2</th>\n",
       "      <td>Medallion Leasin</td>\n",
       "      <td>10367</td>\n",
       "    </tr>\n",
       "    <tr>\n",
       "      <th>3</th>\n",
       "      <td>Yellow Cab</td>\n",
       "      <td>9888</td>\n",
       "    </tr>\n",
       "    <tr>\n",
       "      <th>4</th>\n",
       "      <td>Taxi Affiliation Service Yellow</td>\n",
       "      <td>9299</td>\n",
       "    </tr>\n",
       "  </tbody>\n",
       "</table>\n",
       "</div>"
      ],
      "text/plain": [
       "                      company_name  trips_amount\n",
       "0                        Flash Cab         19558\n",
       "1        Taxi Affiliation Services         11422\n",
       "2                 Medallion Leasin         10367\n",
       "3                       Yellow Cab          9888\n",
       "4  Taxi Affiliation Service Yellow          9299"
      ]
     },
     "execution_count": 3,
     "metadata": {},
     "output_type": "execute_result"
    }
   ],
   "source": [
    "table_1.info()\n",
    "print()\n",
    "table_1.head()"
   ]
  },
  {
   "cell_type": "markdown",
   "id": "3f7ab18a-5a9d-4376-ac33-cad82e0593c7",
   "metadata": {},
   "source": [
    "It is observed that Table 1 has two columns named company_name and trips_amount, both of which contain no missing values. The data types in the table are appropriate for the content."
   ]
  },
  {
   "cell_type": "code",
   "execution_count": 4,
   "id": "df2e1788-2cad-4bdd-97be-be37a7eddf72",
   "metadata": {},
   "outputs": [
    {
     "name": "stdout",
     "output_type": "stream",
     "text": [
      "<class 'pandas.core.frame.DataFrame'>\n",
      "RangeIndex: 94 entries, 0 to 93\n",
      "Data columns (total 2 columns):\n",
      " #   Column                 Non-Null Count  Dtype  \n",
      "---  ------                 --------------  -----  \n",
      " 0   dropoff_location_name  94 non-null     object \n",
      " 1   average_trips          94 non-null     float64\n",
      "dtypes: float64(1), object(1)\n",
      "memory usage: 1.6+ KB\n",
      "\n"
     ]
    },
    {
     "data": {
      "text/html": [
       "<div>\n",
       "<style scoped>\n",
       "    .dataframe tbody tr th:only-of-type {\n",
       "        vertical-align: middle;\n",
       "    }\n",
       "\n",
       "    .dataframe tbody tr th {\n",
       "        vertical-align: top;\n",
       "    }\n",
       "\n",
       "    .dataframe thead th {\n",
       "        text-align: right;\n",
       "    }\n",
       "</style>\n",
       "<table border=\"1\" class=\"dataframe\">\n",
       "  <thead>\n",
       "    <tr style=\"text-align: right;\">\n",
       "      <th></th>\n",
       "      <th>dropoff_location_name</th>\n",
       "      <th>average_trips</th>\n",
       "    </tr>\n",
       "  </thead>\n",
       "  <tbody>\n",
       "    <tr>\n",
       "      <th>0</th>\n",
       "      <td>Loop</td>\n",
       "      <td>10727.466667</td>\n",
       "    </tr>\n",
       "    <tr>\n",
       "      <th>1</th>\n",
       "      <td>River North</td>\n",
       "      <td>9523.666667</td>\n",
       "    </tr>\n",
       "    <tr>\n",
       "      <th>2</th>\n",
       "      <td>Streeterville</td>\n",
       "      <td>6664.666667</td>\n",
       "    </tr>\n",
       "    <tr>\n",
       "      <th>3</th>\n",
       "      <td>West Loop</td>\n",
       "      <td>5163.666667</td>\n",
       "    </tr>\n",
       "    <tr>\n",
       "      <th>4</th>\n",
       "      <td>O'Hare</td>\n",
       "      <td>2546.900000</td>\n",
       "    </tr>\n",
       "  </tbody>\n",
       "</table>\n",
       "</div>"
      ],
      "text/plain": [
       "  dropoff_location_name  average_trips\n",
       "0                  Loop   10727.466667\n",
       "1           River North    9523.666667\n",
       "2         Streeterville    6664.666667\n",
       "3             West Loop    5163.666667\n",
       "4                O'Hare    2546.900000"
      ]
     },
     "execution_count": 4,
     "metadata": {},
     "output_type": "execute_result"
    }
   ],
   "source": [
    "table_2.info()\n",
    "print()\n",
    "table_2.head()"
   ]
  },
  {
   "cell_type": "markdown",
   "id": "a792b9b6-2c02-4d3c-a05d-847be7b35bf4",
   "metadata": {},
   "source": [
    "It is observed that Table 2 has two columns named dropoff_location_name and average_trips, both of which contain no missing values. The data types are suitable for the values contained in the columns."
   ]
  },
  {
   "cell_type": "code",
   "execution_count": 5,
   "id": "79a326ca-0bab-42c1-9354-3fe92c141f90",
   "metadata": {},
   "outputs": [
    {
     "name": "stdout",
     "output_type": "stream",
     "text": [
      "<class 'pandas.core.frame.DataFrame'>\n",
      "RangeIndex: 1068 entries, 0 to 1067\n",
      "Data columns (total 3 columns):\n",
      " #   Column              Non-Null Count  Dtype  \n",
      "---  ------              --------------  -----  \n",
      " 0   start_ts            1068 non-null   object \n",
      " 1   weather_conditions  1068 non-null   object \n",
      " 2   duration_seconds    1068 non-null   float64\n",
      "dtypes: float64(1), object(2)\n",
      "memory usage: 25.2+ KB\n",
      "\n"
     ]
    },
    {
     "data": {
      "text/html": [
       "<div>\n",
       "<style scoped>\n",
       "    .dataframe tbody tr th:only-of-type {\n",
       "        vertical-align: middle;\n",
       "    }\n",
       "\n",
       "    .dataframe tbody tr th {\n",
       "        vertical-align: top;\n",
       "    }\n",
       "\n",
       "    .dataframe thead th {\n",
       "        text-align: right;\n",
       "    }\n",
       "</style>\n",
       "<table border=\"1\" class=\"dataframe\">\n",
       "  <thead>\n",
       "    <tr style=\"text-align: right;\">\n",
       "      <th></th>\n",
       "      <th>start_ts</th>\n",
       "      <th>weather_conditions</th>\n",
       "      <th>duration_seconds</th>\n",
       "    </tr>\n",
       "  </thead>\n",
       "  <tbody>\n",
       "    <tr>\n",
       "      <th>0</th>\n",
       "      <td>2017-11-25 16:00:00</td>\n",
       "      <td>Good</td>\n",
       "      <td>2410.0</td>\n",
       "    </tr>\n",
       "    <tr>\n",
       "      <th>1</th>\n",
       "      <td>2017-11-25 14:00:00</td>\n",
       "      <td>Good</td>\n",
       "      <td>1920.0</td>\n",
       "    </tr>\n",
       "    <tr>\n",
       "      <th>2</th>\n",
       "      <td>2017-11-25 12:00:00</td>\n",
       "      <td>Good</td>\n",
       "      <td>1543.0</td>\n",
       "    </tr>\n",
       "    <tr>\n",
       "      <th>3</th>\n",
       "      <td>2017-11-04 10:00:00</td>\n",
       "      <td>Good</td>\n",
       "      <td>2512.0</td>\n",
       "    </tr>\n",
       "    <tr>\n",
       "      <th>4</th>\n",
       "      <td>2017-11-11 07:00:00</td>\n",
       "      <td>Good</td>\n",
       "      <td>1440.0</td>\n",
       "    </tr>\n",
       "  </tbody>\n",
       "</table>\n",
       "</div>"
      ],
      "text/plain": [
       "              start_ts weather_conditions  duration_seconds\n",
       "0  2017-11-25 16:00:00               Good            2410.0\n",
       "1  2017-11-25 14:00:00               Good            1920.0\n",
       "2  2017-11-25 12:00:00               Good            1543.0\n",
       "3  2017-11-04 10:00:00               Good            2512.0\n",
       "4  2017-11-11 07:00:00               Good            1440.0"
      ]
     },
     "execution_count": 5,
     "metadata": {},
     "output_type": "execute_result"
    }
   ],
   "source": [
    "table_3.info()\n",
    "print()\n",
    "table_3.head()"
   ]
  },
  {
   "cell_type": "markdown",
   "id": "7e69b81c-7b59-4d93-8d65-06d447270d22",
   "metadata": {},
   "source": [
    "It is observed that Table 3 has three columns named start_ts, weather_conditions, and duration_seconds. The start_ts column contains date values; however, the data type is incorrect and should be converted accordingly."
   ]
  },
  {
   "cell_type": "markdown",
   "id": "ce1a255a-6d3b-4a10-bc35-39df794246cc",
   "metadata": {},
   "source": [
    "<h3>Inspection of duplicated values and data type correction</h3>"
   ]
  },
  {
   "cell_type": "code",
   "execution_count": 6,
   "id": "db6c521c-a9ef-4bc9-9865-18063c864b53",
   "metadata": {},
   "outputs": [
    {
     "name": "stdout",
     "output_type": "stream",
     "text": [
      "0\n",
      "\n",
      "0\n",
      "\n",
      "197\n"
     ]
    }
   ],
   "source": [
    "print(table_1.duplicated().sum())\n",
    "print()\n",
    "print(table_2.duplicated().sum())\n",
    "print()\n",
    "print(table_3.duplicated().sum())"
   ]
  },
  {
   "cell_type": "code",
   "execution_count": 7,
   "id": "4dd9e3ef-d898-44e8-bdfb-17b4de90847f",
   "metadata": {},
   "outputs": [
    {
     "name": "stdout",
     "output_type": "stream",
     "text": [
      "                start_ts weather_conditions  duration_seconds  duplicated\n",
      "62   2017-11-11 06:00:00               Good            1260.0        True\n",
      "74   2017-11-11 08:00:00               Good            1380.0        True\n",
      "76   2017-11-04 09:00:00               Good            1380.0        True\n",
      "117  2017-11-11 07:00:00               Good            1380.0        True\n",
      "119  2017-11-04 14:00:00               Good            3300.0        True\n",
      "125  2017-11-11 08:00:00               Good            1380.0        True\n",
      "126  2017-11-11 09:00:00               Good            1380.0        True\n",
      "130  2017-11-11 10:00:00               Good            1260.0        True\n",
      "179  2017-11-11 06:00:00               Good            1260.0        True\n",
      "190  2017-11-04 08:00:00               Good            1323.0        True\n"
     ]
    }
   ],
   "source": [
    "duplicated_3=table_3.duplicated()\n",
    "table_3['duplicated']=duplicated_3\n",
    "duplicated_rows= table_3[table_3['duplicated']==True]\n",
    "print(duplicated_rows.head(10))"
   ]
  },
  {
   "cell_type": "markdown",
   "id": "ba459bec-bf50-46eb-8c34-11cfda194289",
   "metadata": {},
   "source": [
    "It is observed that Table 1 and Table 2 do not contain any duplicate rows. In the case of Table 3, some rows appear to be duplicates, but this may be due to the incorrect data type. The data type of the start_ts column will be corrected, and a new check for duplicate rows will be performed."
   ]
  },
  {
   "cell_type": "code",
   "execution_count": 8,
   "id": "e5f4de0c-9f72-4219-930f-0b180ede8d10",
   "metadata": {},
   "outputs": [
    {
     "name": "stdout",
     "output_type": "stream",
     "text": [
      "<class 'pandas.core.frame.DataFrame'>\n",
      "RangeIndex: 1068 entries, 0 to 1067\n",
      "Data columns (total 3 columns):\n",
      " #   Column              Non-Null Count  Dtype         \n",
      "---  ------              --------------  -----         \n",
      " 0   start_ts            1068 non-null   datetime64[ns]\n",
      " 1   weather_conditions  1068 non-null   object        \n",
      " 2   duration_seconds    1068 non-null   float64       \n",
      "dtypes: datetime64[ns](1), float64(1), object(1)\n",
      "memory usage: 25.2+ KB\n",
      "\n"
     ]
    },
    {
     "data": {
      "text/html": [
       "<div>\n",
       "<style scoped>\n",
       "    .dataframe tbody tr th:only-of-type {\n",
       "        vertical-align: middle;\n",
       "    }\n",
       "\n",
       "    .dataframe tbody tr th {\n",
       "        vertical-align: top;\n",
       "    }\n",
       "\n",
       "    .dataframe thead th {\n",
       "        text-align: right;\n",
       "    }\n",
       "</style>\n",
       "<table border=\"1\" class=\"dataframe\">\n",
       "  <thead>\n",
       "    <tr style=\"text-align: right;\">\n",
       "      <th></th>\n",
       "      <th>start_ts</th>\n",
       "      <th>weather_conditions</th>\n",
       "      <th>duration_seconds</th>\n",
       "    </tr>\n",
       "  </thead>\n",
       "  <tbody>\n",
       "    <tr>\n",
       "      <th>0</th>\n",
       "      <td>2017-11-25 16:00:00</td>\n",
       "      <td>Good</td>\n",
       "      <td>2410.0</td>\n",
       "    </tr>\n",
       "    <tr>\n",
       "      <th>1</th>\n",
       "      <td>2017-11-25 14:00:00</td>\n",
       "      <td>Good</td>\n",
       "      <td>1920.0</td>\n",
       "    </tr>\n",
       "    <tr>\n",
       "      <th>2</th>\n",
       "      <td>2017-11-25 12:00:00</td>\n",
       "      <td>Good</td>\n",
       "      <td>1543.0</td>\n",
       "    </tr>\n",
       "    <tr>\n",
       "      <th>3</th>\n",
       "      <td>2017-11-04 10:00:00</td>\n",
       "      <td>Good</td>\n",
       "      <td>2512.0</td>\n",
       "    </tr>\n",
       "    <tr>\n",
       "      <th>4</th>\n",
       "      <td>2017-11-11 07:00:00</td>\n",
       "      <td>Good</td>\n",
       "      <td>1440.0</td>\n",
       "    </tr>\n",
       "    <tr>\n",
       "      <th>5</th>\n",
       "      <td>2017-11-11 04:00:00</td>\n",
       "      <td>Good</td>\n",
       "      <td>1320.0</td>\n",
       "    </tr>\n",
       "    <tr>\n",
       "      <th>6</th>\n",
       "      <td>2017-11-04 16:00:00</td>\n",
       "      <td>Bad</td>\n",
       "      <td>2969.0</td>\n",
       "    </tr>\n",
       "    <tr>\n",
       "      <th>7</th>\n",
       "      <td>2017-11-18 11:00:00</td>\n",
       "      <td>Good</td>\n",
       "      <td>2280.0</td>\n",
       "    </tr>\n",
       "    <tr>\n",
       "      <th>8</th>\n",
       "      <td>2017-11-11 14:00:00</td>\n",
       "      <td>Good</td>\n",
       "      <td>2460.0</td>\n",
       "    </tr>\n",
       "    <tr>\n",
       "      <th>9</th>\n",
       "      <td>2017-11-11 12:00:00</td>\n",
       "      <td>Good</td>\n",
       "      <td>2040.0</td>\n",
       "    </tr>\n",
       "  </tbody>\n",
       "</table>\n",
       "</div>"
      ],
      "text/plain": [
       "             start_ts weather_conditions  duration_seconds\n",
       "0 2017-11-25 16:00:00               Good            2410.0\n",
       "1 2017-11-25 14:00:00               Good            1920.0\n",
       "2 2017-11-25 12:00:00               Good            1543.0\n",
       "3 2017-11-04 10:00:00               Good            2512.0\n",
       "4 2017-11-11 07:00:00               Good            1440.0\n",
       "5 2017-11-11 04:00:00               Good            1320.0\n",
       "6 2017-11-04 16:00:00                Bad            2969.0\n",
       "7 2017-11-18 11:00:00               Good            2280.0\n",
       "8 2017-11-11 14:00:00               Good            2460.0\n",
       "9 2017-11-11 12:00:00               Good            2040.0"
      ]
     },
     "execution_count": 8,
     "metadata": {},
     "output_type": "execute_result"
    }
   ],
   "source": [
    "table_3['start_ts']=pd.to_datetime(table_3['start_ts'], format='%Y-%m-%d %H:%M:%S')\n",
    "table_3=table_3.drop('duplicated', axis=1)\n",
    "table_3.info()\n",
    "print()\n",
    "table_3.head(10)"
   ]
  },
  {
   "cell_type": "code",
   "execution_count": 9,
   "id": "3330c064-45fc-4a08-bd9f-3a42b11d5838",
   "metadata": {},
   "outputs": [
    {
     "name": "stdout",
     "output_type": "stream",
     "text": [
      "               start_ts weather_conditions  duration_seconds  duplicated\n",
      "62  2017-11-11 06:00:00               Good            1260.0        True\n",
      "74  2017-11-11 08:00:00               Good            1380.0        True\n",
      "76  2017-11-04 09:00:00               Good            1380.0        True\n",
      "117 2017-11-11 07:00:00               Good            1380.0        True\n",
      "119 2017-11-04 14:00:00               Good            3300.0        True\n",
      "125 2017-11-11 08:00:00               Good            1380.0        True\n",
      "126 2017-11-11 09:00:00               Good            1380.0        True\n",
      "130 2017-11-11 10:00:00               Good            1260.0        True\n",
      "179 2017-11-11 06:00:00               Good            1260.0        True\n",
      "190 2017-11-04 08:00:00               Good            1323.0        True\n",
      "\n",
      "82\n"
     ]
    }
   ],
   "source": [
    "duplicated_3=table_3.duplicated()\n",
    "table_3['duplicated']=duplicated_3\n",
    "duplicated_rows= table_3[table_3['duplicated']==True]\n",
    "print(duplicated_rows.head(10))\n",
    "print()\n",
    "print(table_3.duplicated().sum())"
   ]
  },
  {
   "cell_type": "markdown",
   "id": "2c2cb958-2823-4042-bd8a-6501a52a3767",
   "metadata": {},
   "source": [
    "After applying the data type conversion, the number of duplicate entries decreased from 197 to 82. It is possible that more than one trip was recorded for the same timestamp. These will be marked as duplicate trips, and further analysis will determine whether including or excluding these records impacts the results."
   ]
  },
  {
   "cell_type": "markdown",
   "id": "5898b570-0dbb-4901-8b86-ea94de6c5b3e",
   "metadata": {},
   "source": [
    "<h3>Analysis of the Top 10 Destination Locations</h3>"
   ]
  },
  {
   "cell_type": "markdown",
   "id": "d5bc131b-71b3-402e-bc0a-6e1806da19cc",
   "metadata": {},
   "source": [
    "Table 2 contains information on the average number of trips associated with each destination. The table will be sorted by average number of trips in descending order, and the top 10 rows will be selected to identify the most popular destinations."
   ]
  },
  {
   "cell_type": "code",
   "execution_count": 10,
   "id": "a46ef270-9027-4a76-bd5a-b28d6c709d8c",
   "metadata": {},
   "outputs": [
    {
     "name": "stdout",
     "output_type": "stream",
     "text": [
      "  dropoff_location_name  average_trips\n",
      "0                  Loop   10727.466667\n",
      "1           River North    9523.666667\n",
      "2         Streeterville    6664.666667\n",
      "3             West Loop    5163.666667\n",
      "4                O'Hare    2546.900000\n",
      "5             Lake View    2420.966667\n",
      "6            Grant Park    2068.533333\n",
      "7         Museum Campus    1510.000000\n",
      "8            Gold Coast    1364.233333\n",
      "9    Sheffield & DePaul    1259.766667\n"
     ]
    }
   ],
   "source": [
    "top_10_destinations=table_2.sort_values(by='average_trips', ascending=False).head(10)\n",
    "print(top_10_destinations)"
   ]
  },
  {
   "cell_type": "code",
   "execution_count": 11,
   "id": "8273261c-e75a-4437-a5da-e5f16a01d3b0",
   "metadata": {},
   "outputs": [
    {
     "data": {
      "image/png": "[encoded data removed]",
      "text/plain": [
       "<Figure size 640x480 with 1 Axes>"
      ]
     },
     "metadata": {},
     "output_type": "display_data"
    }
   ],
   "source": [
    "top_10_destinations.plot(x='dropoff_location_name', y= 'average_trips',kind='bar', title=\"Average number of trips towards the ten most visited destinations\",xlabel='Nombre del destino', ylabel='Número promedio de viajes')\n",
    "plt.show()"
   ]
  },
  {
   "cell_type": "markdown",
   "id": "a24e0829-8c68-4c8b-b7f8-d4cf8c41afad",
   "metadata": {},
   "source": [
    "From this analysis it was observer that the most popular destination is Loop with mor than tenthousand trips."
   ]
  },
  {
   "cell_type": "markdown",
   "id": "f2a2dc7c-5205-4998-a2b3-a4b4eab576b8",
   "metadata": {},
   "source": [
    "<h3> Analysis of Number of Trips per Company </h3> \n",
    "\n",
    "Table 1 contains information on the number of trips by company. The table will be sorted in descending order by number of trips to identify the 10 companies with the highest trip counts during the period from November 15 to 16, 2017. The describe method will be used to examine the distribution of trip numbers and identify any outliers."
   ]
  },
  {
   "cell_type": "code",
   "execution_count": 12,
   "id": "2245b1e6-7a45-4543-83b3-3c1ce8a2ff24",
   "metadata": {},
   "outputs": [
    {
     "name": "stdout",
     "output_type": "stream",
     "text": [
      "                        company_name  trips_amount\n",
      "0                          Flash Cab         19558\n",
      "1          Taxi Affiliation Services         11422\n",
      "2                   Medallion Leasin         10367\n",
      "3                         Yellow Cab          9888\n",
      "4    Taxi Affiliation Service Yellow          9299\n",
      "5          Chicago Carriage Cab Corp          9181\n",
      "6                       City Service          8448\n",
      "7                           Sun Taxi          7701\n",
      "8          Star North Management LLC          7455\n",
      "9  Blue Ribbon Taxi Association Inc.          5953\n"
     ]
    }
   ],
   "source": [
    "top_10_companies=table_1.sort_values(by='trips_amount', ascending=False).head(10)\n",
    "print(top_10_companies)"
   ]
  },
  {
   "cell_type": "code",
   "execution_count": 13,
   "id": "8e409f84-6f9f-4c7f-a097-01f029634072",
   "metadata": {},
   "outputs": [
    {
     "name": "stdout",
     "output_type": "stream",
     "text": [
      "       trips_amount\n",
      "count     64.000000\n",
      "mean    2145.484375\n",
      "std     3812.310186\n",
      "min        2.000000\n",
      "25%       20.750000\n",
      "50%      178.500000\n",
      "75%     2106.500000\n",
      "max    19558.000000\n"
     ]
    }
   ],
   "source": [
    "print(table_1.describe())"
   ]
  },
  {
   "cell_type": "markdown",
   "id": "d5c9dd9d-0b2d-4426-9a1a-4b38377f928d",
   "metadata": {},
   "source": [
    "It is observed that the number of trips per company varies significantly, with a large disparity between the company with the highest number of trips and the one with the fewest. "
   ]
  },
  {
   "cell_type": "code",
   "execution_count": 14,
   "id": "f96b5b7a-f445-499f-886f-d994b2879a3c",
   "metadata": {},
   "outputs": [
    {
     "data": {
      "image/png": "[encoded data removed]",
      "text/plain": [
       "<Figure size 640x480 with 1 Axes>"
      ]
     },
     "metadata": {},
     "output_type": "display_data"
    }
   ],
   "source": [
    "top_10_companies.plot(x='company_name', y= 'trips_amount',kind='bar', title=\"Number of trips for the then most popular transpor companies\",xlabel='Nombre de la compañia', ylabel='Número promedio de viajes')\n",
    "plt.show()"
   ]
  },
  {
   "cell_type": "markdown",
   "id": "30c5991e-590c-40fa-9094-b8b79a45abe8",
   "metadata": {},
   "source": [
    "Notably, the most popular company recorded a substantially higher number of trips than the next nine most popular companies."
   ]
  },
  {
   "cell_type": "markdown",
   "id": "4c06d29a-1c84-4b32-bd9f-bcbbd6e934ff",
   "metadata": {},
   "source": [
    "<h3> Hypotesis test </h3>\n",
    "\n",
    "<h4> Objective: </h4> \n",
    "To estimate whether weather conditions affect the trip duration. A two-tailed test with an alpha level of 0.05 will be performed, as the goal is to assess whether there is a significant difference between the means. Trip duration data will first be divided into two groups: trips taken in good weather and those taken in rainy conditions. A t-test will then be used to evaluate whether there is a statistically significant difference between the mean trip durations of the two groups."
   ]
  },
  {
   "cell_type": "code",
   "execution_count": 15,
   "id": "49acd5be-7142-4614-92f4-acb78baca509",
   "metadata": {
    "scrolled": true
   },
   "outputs": [
    {
     "name": "stdout",
     "output_type": "stream",
     "text": [
      "\n"
     ]
    },
    {
     "data": {
      "text/html": [
       "<div>\n",
       "<style scoped>\n",
       "    .dataframe tbody tr th:only-of-type {\n",
       "        vertical-align: middle;\n",
       "    }\n",
       "\n",
       "    .dataframe tbody tr th {\n",
       "        vertical-align: top;\n",
       "    }\n",
       "\n",
       "    .dataframe thead th {\n",
       "        text-align: right;\n",
       "    }\n",
       "</style>\n",
       "<table border=\"1\" class=\"dataframe\">\n",
       "  <thead>\n",
       "    <tr style=\"text-align: right;\">\n",
       "      <th></th>\n",
       "      <th>start_ts</th>\n",
       "      <th>weather_conditions</th>\n",
       "      <th>duration_seconds</th>\n",
       "      <th>duplicated</th>\n",
       "    </tr>\n",
       "  </thead>\n",
       "  <tbody>\n",
       "    <tr>\n",
       "      <th>6</th>\n",
       "      <td>2017-11-04 16:00:00</td>\n",
       "      <td>Bad</td>\n",
       "      <td>2969.0</td>\n",
       "      <td>False</td>\n",
       "    </tr>\n",
       "    <tr>\n",
       "      <th>30</th>\n",
       "      <td>2017-11-18 12:00:00</td>\n",
       "      <td>Bad</td>\n",
       "      <td>1980.0</td>\n",
       "      <td>False</td>\n",
       "    </tr>\n",
       "    <tr>\n",
       "      <th>34</th>\n",
       "      <td>2017-11-04 17:00:00</td>\n",
       "      <td>Bad</td>\n",
       "      <td>2460.0</td>\n",
       "      <td>False</td>\n",
       "    </tr>\n",
       "    <tr>\n",
       "      <th>51</th>\n",
       "      <td>2017-11-04 16:00:00</td>\n",
       "      <td>Bad</td>\n",
       "      <td>2760.0</td>\n",
       "      <td>False</td>\n",
       "    </tr>\n",
       "    <tr>\n",
       "      <th>52</th>\n",
       "      <td>2017-11-18 12:00:00</td>\n",
       "      <td>Bad</td>\n",
       "      <td>2460.0</td>\n",
       "      <td>False</td>\n",
       "    </tr>\n",
       "    <tr>\n",
       "      <th>54</th>\n",
       "      <td>2017-11-18 10:00:00</td>\n",
       "      <td>Bad</td>\n",
       "      <td>1440.0</td>\n",
       "      <td>False</td>\n",
       "    </tr>\n",
       "    <tr>\n",
       "      <th>65</th>\n",
       "      <td>2017-11-04 18:00:00</td>\n",
       "      <td>Bad</td>\n",
       "      <td>2363.0</td>\n",
       "      <td>False</td>\n",
       "    </tr>\n",
       "    <tr>\n",
       "      <th>70</th>\n",
       "      <td>2017-11-18 16:00:00</td>\n",
       "      <td>Bad</td>\n",
       "      <td>3000.0</td>\n",
       "      <td>False</td>\n",
       "    </tr>\n",
       "    <tr>\n",
       "      <th>78</th>\n",
       "      <td>2017-11-04 16:00:00</td>\n",
       "      <td>Bad</td>\n",
       "      <td>3120.0</td>\n",
       "      <td>False</td>\n",
       "    </tr>\n",
       "    <tr>\n",
       "      <th>92</th>\n",
       "      <td>2017-11-18 07:00:00</td>\n",
       "      <td>Bad</td>\n",
       "      <td>1511.0</td>\n",
       "      <td>False</td>\n",
       "    </tr>\n",
       "  </tbody>\n",
       "</table>\n",
       "</div>"
      ],
      "text/plain": [
       "              start_ts weather_conditions  duration_seconds  duplicated\n",
       "6  2017-11-04 16:00:00                Bad            2969.0       False\n",
       "30 2017-11-18 12:00:00                Bad            1980.0       False\n",
       "34 2017-11-04 17:00:00                Bad            2460.0       False\n",
       "51 2017-11-04 16:00:00                Bad            2760.0       False\n",
       "52 2017-11-18 12:00:00                Bad            2460.0       False\n",
       "54 2017-11-18 10:00:00                Bad            1440.0       False\n",
       "65 2017-11-04 18:00:00                Bad            2363.0       False\n",
       "70 2017-11-18 16:00:00                Bad            3000.0       False\n",
       "78 2017-11-04 16:00:00                Bad            3120.0       False\n",
       "92 2017-11-18 07:00:00                Bad            1511.0       False"
      ]
     },
     "execution_count": 15,
     "metadata": {},
     "output_type": "execute_result"
    }
   ],
   "source": [
    "good_weather=table_3[table_3['weather_conditions']=='Good']\n",
    "good_weather.head(10)\n",
    "print()\n",
    "rain_weather=table_3[table_3['weather_conditions']=='Bad']\n",
    "rain_weather.head(10)"
   ]
  },
  {
   "cell_type": "code",
   "execution_count": 16,
   "id": "e8f8d960-0fb8-4bc2-b4ae-543f4a44ff2f",
   "metadata": {},
   "outputs": [
    {
     "name": "stdout",
     "output_type": "stream",
     "text": [
      "valor p:  6.517970327099473e-12\n",
      "Nule hypothesis rejected: It is possible to conclude that there is a significative relationship between the weather and the trip duration\n"
     ]
    }
   ],
   "source": [
    "results= st.ttest_ind(good_weather['duration_seconds'],rain_weather['duration_seconds'])\n",
    "\n",
    "print('valor p: ', results.pvalue)\n",
    "\n",
    "if results.pvalue < 0.05:\n",
    "    print(\"Nule hypothesis rejected: It is possible to conclude that there is a significative relationship between the weather and the trip duration\")\n",
    "else: \n",
    "    print('Nule hypothesis can not be rejected: there is no significative relationship between the weather and the trip duration')"
   ]
  },
  {
   "cell_type": "code",
   "execution_count": 17,
   "id": "b83ac0c0-75fb-4268-8221-48b0899e3ad7",
   "metadata": {},
   "outputs": [
    {
     "name": "stdout",
     "output_type": "stream",
     "text": [
      "1999.6756756756756\n",
      "\n",
      "2427.2055555555557\n"
     ]
    }
   ],
   "source": [
    "good_weather_avg=good_weather['duration_seconds'].mean()\n",
    "print(good_weather_avg)\n",
    "print()\n",
    "rain_weather_avg=rain_weather['duration_seconds'].mean()\n",
    "print(rain_weather_avg)"
   ]
  },
  {
   "cell_type": "markdown",
   "id": "07a0f3f8-7d6c-4162-a949-5d081ca623d8",
   "metadata": {},
   "source": [
    "<h2>Conclusions of the Analysis</h2>\n",
    "\n",
    "The analysis identified the 10 most popular travel destinations and the 10 companies with the highest number of recorded trips during the period from November 15 to 16, 2017.\n",
    "\n",
    "The most popular destination was Loop, with an average of over 10,000 trips to that location.\n",
    "\n",
    "The most popular company was Flash Cab, with more than 19,000 trips recorded.\n",
    "\n",
    "Finally, the analysis also revealed that rain significantly affects the duration of trips between Loop and O’Hare. The average trip duration in rainy conditions was found to be nearly twice as long as in good weather."
   ]
  }
 ],
 "metadata": {
  "kernelspec": {
   "display_name": "Python 3 (ipykernel)",
   "language": "python",
   "name": "python3"
  },
  "language_info": {
   "codemirror_mode": {
    "name": "ipython",
    "version": 3
   },
   "file_extension": ".py",
   "mimetype": "text/x-python",
   "name": "python",
   "nbconvert_exporter": "python",
   "pygments_lexer": "ipython3",
   "version": "3.12.4"
  }
 },
 "nbformat": 4,
 "nbformat_minor": 5
}
