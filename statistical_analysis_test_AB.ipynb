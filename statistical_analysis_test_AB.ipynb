{
 "cells": [
  {
   "cell_type": "markdown",
   "id": "4709fd27-53bc-4cb8-af4b-0496640593bf",
   "metadata": {},
   "source": [
    "<h1><title> Sprint Project 8: Data Analysis for Zuber Company </title> <h1>\n",
    "\n",
    "<h3>Project Objective: </h3>\n",
    "\n",
    "1. Identify the 10 most popular travel destinations.\n",
    "2. Analyse the number of trips per transportation company.\n",
    "3. Estimate the correlation between trip duration from Loop to O'Hare using a hypothesis test.\n",
    "\n",
    "<h3> Analysis Process Description: </h3>\n",
    "\n",
    "The dataset consists of three tables: moved_project_sql_result_01, moved_project_sql_result_04, and moved_project_sql_result_07. The tables will be initially imported and inspected. Missing values, duplicates, and data types will then be cleaned and corrected. Once the data is prepared, the analysis objectives will be addressed, and conclusions will be drawn.\n",
    "\n",
    "\n",
    "<h3> Library and Data Import </h3>\n"
   ]
  },
  {
   "cell_type": "markdown",
   "id": "bf1938b5-bf1d-4f80-af2c-3323045ad808",
   "metadata": {},
   "source": [
    "Library import:"
   ]
  },
  {
   "cell_type": "code",
   "execution_count": 4,
   "id": "f6c509c8-548b-4ea3-91bd-92d23bd7b590",
   "metadata": {},
   "outputs": [],
   "source": [
    "from scipy import stats as st\n",
    "import numpy as np\n",
    "import pandas as pd\n",
    "from matplotlib import pyplot as plt"
   ]
  },
  {
   "cell_type": "markdown",
   "id": "c596addf-e3f4-4904-b8ba-061cd7bbcd62",
   "metadata": {},
   "source": [
    "Data import:"
   ]
  },
  {
   "cell_type": "code",
   "execution_count": 5,
   "id": "98df36bd-febd-41f3-95e2-79b58a7b4167",
   "metadata": {},
   "outputs": [
    {
     "ename": "FileNotFoundError",
     "evalue": "[Errno 2] No such file or directory: 'moved_project_sql_result_01.csv'",
     "output_type": "error",
     "traceback": [
      "\u001b[1;31m---------------------------------------------------------------------------\u001b[0m",
      "\u001b[1;31mFileNotFoundError\u001b[0m                         Traceback (most recent call last)",
      "Cell \u001b[1;32mIn[5], line 1\u001b[0m\n\u001b[1;32m----> 1\u001b[0m table_1\u001b[38;5;241m=\u001b[39m\u001b[43mpd\u001b[49m\u001b[38;5;241;43m.\u001b[39;49m\u001b[43mread_csv\u001b[49m\u001b[43m(\u001b[49m\u001b[38;5;124;43m'\u001b[39;49m\u001b[38;5;124;43mmoved_project_sql_result_01.csv\u001b[39;49m\u001b[38;5;124;43m'\u001b[39;49m\u001b[43m)\u001b[49m\n\u001b[0;32m      2\u001b[0m table_2\u001b[38;5;241m=\u001b[39mpd\u001b[38;5;241m.\u001b[39mread_csv(\u001b[38;5;124m'\u001b[39m\u001b[38;5;124mmoved_project_sql_result_04.csv\u001b[39m\u001b[38;5;124m'\u001b[39m)\n\u001b[0;32m      3\u001b[0m table_3\u001b[38;5;241m=\u001b[39mpd\u001b[38;5;241m.\u001b[39mread_csv(\u001b[38;5;124m'\u001b[39m\u001b[38;5;124mmoved_project_sql_result_07.csv\u001b[39m\u001b[38;5;124m'\u001b[39m)\n",
      "File \u001b[1;32m~\\AppData\\Local\\Programs\\Python\\Python312\\Lib\\site-packages\\pandas\\io\\parsers\\readers.py:1026\u001b[0m, in \u001b[0;36mread_csv\u001b[1;34m(filepath_or_buffer, sep, delimiter, header, names, index_col, usecols, dtype, engine, converters, true_values, false_values, skipinitialspace, skiprows, skipfooter, nrows, na_values, keep_default_na, na_filter, verbose, skip_blank_lines, parse_dates, infer_datetime_format, keep_date_col, date_parser, date_format, dayfirst, cache_dates, iterator, chunksize, compression, thousands, decimal, lineterminator, quotechar, quoting, doublequote, escapechar, comment, encoding, encoding_errors, dialect, on_bad_lines, delim_whitespace, low_memory, memory_map, float_precision, storage_options, dtype_backend)\u001b[0m\n\u001b[0;32m   1013\u001b[0m kwds_defaults \u001b[38;5;241m=\u001b[39m _refine_defaults_read(\n\u001b[0;32m   1014\u001b[0m     dialect,\n\u001b[0;32m   1015\u001b[0m     delimiter,\n\u001b[1;32m   (...)\u001b[0m\n\u001b[0;32m   1022\u001b[0m     dtype_backend\u001b[38;5;241m=\u001b[39mdtype_backend,\n\u001b[0;32m   1023\u001b[0m )\n\u001b[0;32m   1024\u001b[0m kwds\u001b[38;5;241m.\u001b[39mupdate(kwds_defaults)\n\u001b[1;32m-> 1026\u001b[0m \u001b[38;5;28;01mreturn\u001b[39;00m \u001b[43m_read\u001b[49m\u001b[43m(\u001b[49m\u001b[43mfilepath_or_buffer\u001b[49m\u001b[43m,\u001b[49m\u001b[43m \u001b[49m\u001b[43mkwds\u001b[49m\u001b[43m)\u001b[49m\n",
      "File \u001b[1;32m~\\AppData\\Local\\Programs\\Python\\Python312\\Lib\\site-packages\\pandas\\io\\parsers\\readers.py:620\u001b[0m, in \u001b[0;36m_read\u001b[1;34m(filepath_or_buffer, kwds)\u001b[0m\n\u001b[0;32m    617\u001b[0m _validate_names(kwds\u001b[38;5;241m.\u001b[39mget(\u001b[38;5;124m\"\u001b[39m\u001b[38;5;124mnames\u001b[39m\u001b[38;5;124m\"\u001b[39m, \u001b[38;5;28;01mNone\u001b[39;00m))\n\u001b[0;32m    619\u001b[0m \u001b[38;5;66;03m# Create the parser.\u001b[39;00m\n\u001b[1;32m--> 620\u001b[0m parser \u001b[38;5;241m=\u001b[39m \u001b[43mTextFileReader\u001b[49m\u001b[43m(\u001b[49m\u001b[43mfilepath_or_buffer\u001b[49m\u001b[43m,\u001b[49m\u001b[43m \u001b[49m\u001b[38;5;241;43m*\u001b[39;49m\u001b[38;5;241;43m*\u001b[39;49m\u001b[43mkwds\u001b[49m\u001b[43m)\u001b[49m\n\u001b[0;32m    622\u001b[0m \u001b[38;5;28;01mif\u001b[39;00m chunksize \u001b[38;5;129;01mor\u001b[39;00m iterator:\n\u001b[0;32m    623\u001b[0m     \u001b[38;5;28;01mreturn\u001b[39;00m parser\n",
      "File \u001b[1;32m~\\AppData\\Local\\Programs\\Python\\Python312\\Lib\\site-packages\\pandas\\io\\parsers\\readers.py:1620\u001b[0m, in \u001b[0;36mTextFileReader.__init__\u001b[1;34m(self, f, engine, **kwds)\u001b[0m\n\u001b[0;32m   1617\u001b[0m     \u001b[38;5;28mself\u001b[39m\u001b[38;5;241m.\u001b[39moptions[\u001b[38;5;124m\"\u001b[39m\u001b[38;5;124mhas_index_names\u001b[39m\u001b[38;5;124m\"\u001b[39m] \u001b[38;5;241m=\u001b[39m kwds[\u001b[38;5;124m\"\u001b[39m\u001b[38;5;124mhas_index_names\u001b[39m\u001b[38;5;124m\"\u001b[39m]\n\u001b[0;32m   1619\u001b[0m \u001b[38;5;28mself\u001b[39m\u001b[38;5;241m.\u001b[39mhandles: IOHandles \u001b[38;5;241m|\u001b[39m \u001b[38;5;28;01mNone\u001b[39;00m \u001b[38;5;241m=\u001b[39m \u001b[38;5;28;01mNone\u001b[39;00m\n\u001b[1;32m-> 1620\u001b[0m \u001b[38;5;28mself\u001b[39m\u001b[38;5;241m.\u001b[39m_engine \u001b[38;5;241m=\u001b[39m \u001b[38;5;28;43mself\u001b[39;49m\u001b[38;5;241;43m.\u001b[39;49m\u001b[43m_make_engine\u001b[49m\u001b[43m(\u001b[49m\u001b[43mf\u001b[49m\u001b[43m,\u001b[49m\u001b[43m \u001b[49m\u001b[38;5;28;43mself\u001b[39;49m\u001b[38;5;241;43m.\u001b[39;49m\u001b[43mengine\u001b[49m\u001b[43m)\u001b[49m\n",
      "File \u001b[1;32m~\\AppData\\Local\\Programs\\Python\\Python312\\Lib\\site-packages\\pandas\\io\\parsers\\readers.py:1880\u001b[0m, in \u001b[0;36mTextFileReader._make_engine\u001b[1;34m(self, f, engine)\u001b[0m\n\u001b[0;32m   1878\u001b[0m     \u001b[38;5;28;01mif\u001b[39;00m \u001b[38;5;124m\"\u001b[39m\u001b[38;5;124mb\u001b[39m\u001b[38;5;124m\"\u001b[39m \u001b[38;5;129;01mnot\u001b[39;00m \u001b[38;5;129;01min\u001b[39;00m mode:\n\u001b[0;32m   1879\u001b[0m         mode \u001b[38;5;241m+\u001b[39m\u001b[38;5;241m=\u001b[39m \u001b[38;5;124m\"\u001b[39m\u001b[38;5;124mb\u001b[39m\u001b[38;5;124m\"\u001b[39m\n\u001b[1;32m-> 1880\u001b[0m \u001b[38;5;28mself\u001b[39m\u001b[38;5;241m.\u001b[39mhandles \u001b[38;5;241m=\u001b[39m \u001b[43mget_handle\u001b[49m\u001b[43m(\u001b[49m\n\u001b[0;32m   1881\u001b[0m \u001b[43m    \u001b[49m\u001b[43mf\u001b[49m\u001b[43m,\u001b[49m\n\u001b[0;32m   1882\u001b[0m \u001b[43m    \u001b[49m\u001b[43mmode\u001b[49m\u001b[43m,\u001b[49m\n\u001b[0;32m   1883\u001b[0m \u001b[43m    \u001b[49m\u001b[43mencoding\u001b[49m\u001b[38;5;241;43m=\u001b[39;49m\u001b[38;5;28;43mself\u001b[39;49m\u001b[38;5;241;43m.\u001b[39;49m\u001b[43moptions\u001b[49m\u001b[38;5;241;43m.\u001b[39;49m\u001b[43mget\u001b[49m\u001b[43m(\u001b[49m\u001b[38;5;124;43m\"\u001b[39;49m\u001b[38;5;124;43mencoding\u001b[39;49m\u001b[38;5;124;43m\"\u001b[39;49m\u001b[43m,\u001b[49m\u001b[43m \u001b[49m\u001b[38;5;28;43;01mNone\u001b[39;49;00m\u001b[43m)\u001b[49m\u001b[43m,\u001b[49m\n\u001b[0;32m   1884\u001b[0m \u001b[43m    \u001b[49m\u001b[43mcompression\u001b[49m\u001b[38;5;241;43m=\u001b[39;49m\u001b[38;5;28;43mself\u001b[39;49m\u001b[38;5;241;43m.\u001b[39;49m\u001b[43moptions\u001b[49m\u001b[38;5;241;43m.\u001b[39;49m\u001b[43mget\u001b[49m\u001b[43m(\u001b[49m\u001b[38;5;124;43m\"\u001b[39;49m\u001b[38;5;124;43mcompression\u001b[39;49m\u001b[38;5;124;43m\"\u001b[39;49m\u001b[43m,\u001b[49m\u001b[43m \u001b[49m\u001b[38;5;28;43;01mNone\u001b[39;49;00m\u001b[43m)\u001b[49m\u001b[43m,\u001b[49m\n\u001b[0;32m   1885\u001b[0m \u001b[43m    \u001b[49m\u001b[43mmemory_map\u001b[49m\u001b[38;5;241;43m=\u001b[39;49m\u001b[38;5;28;43mself\u001b[39;49m\u001b[38;5;241;43m.\u001b[39;49m\u001b[43moptions\u001b[49m\u001b[38;5;241;43m.\u001b[39;49m\u001b[43mget\u001b[49m\u001b[43m(\u001b[49m\u001b[38;5;124;43m\"\u001b[39;49m\u001b[38;5;124;43mmemory_map\u001b[39;49m\u001b[38;5;124;43m\"\u001b[39;49m\u001b[43m,\u001b[49m\u001b[43m \u001b[49m\u001b[38;5;28;43;01mFalse\u001b[39;49;00m\u001b[43m)\u001b[49m\u001b[43m,\u001b[49m\n\u001b[0;32m   1886\u001b[0m \u001b[43m    \u001b[49m\u001b[43mis_text\u001b[49m\u001b[38;5;241;43m=\u001b[39;49m\u001b[43mis_text\u001b[49m\u001b[43m,\u001b[49m\n\u001b[0;32m   1887\u001b[0m \u001b[43m    \u001b[49m\u001b[43merrors\u001b[49m\u001b[38;5;241;43m=\u001b[39;49m\u001b[38;5;28;43mself\u001b[39;49m\u001b[38;5;241;43m.\u001b[39;49m\u001b[43moptions\u001b[49m\u001b[38;5;241;43m.\u001b[39;49m\u001b[43mget\u001b[49m\u001b[43m(\u001b[49m\u001b[38;5;124;43m\"\u001b[39;49m\u001b[38;5;124;43mencoding_errors\u001b[39;49m\u001b[38;5;124;43m\"\u001b[39;49m\u001b[43m,\u001b[49m\u001b[43m \u001b[49m\u001b[38;5;124;43m\"\u001b[39;49m\u001b[38;5;124;43mstrict\u001b[39;49m\u001b[38;5;124;43m\"\u001b[39;49m\u001b[43m)\u001b[49m\u001b[43m,\u001b[49m\n\u001b[0;32m   1888\u001b[0m \u001b[43m    \u001b[49m\u001b[43mstorage_options\u001b[49m\u001b[38;5;241;43m=\u001b[39;49m\u001b[38;5;28;43mself\u001b[39;49m\u001b[38;5;241;43m.\u001b[39;49m\u001b[43moptions\u001b[49m\u001b[38;5;241;43m.\u001b[39;49m\u001b[43mget\u001b[49m\u001b[43m(\u001b[49m\u001b[38;5;124;43m\"\u001b[39;49m\u001b[38;5;124;43mstorage_options\u001b[39;49m\u001b[38;5;124;43m\"\u001b[39;49m\u001b[43m,\u001b[49m\u001b[43m \u001b[49m\u001b[38;5;28;43;01mNone\u001b[39;49;00m\u001b[43m)\u001b[49m\u001b[43m,\u001b[49m\n\u001b[0;32m   1889\u001b[0m \u001b[43m\u001b[49m\u001b[43m)\u001b[49m\n\u001b[0;32m   1890\u001b[0m \u001b[38;5;28;01massert\u001b[39;00m \u001b[38;5;28mself\u001b[39m\u001b[38;5;241m.\u001b[39mhandles \u001b[38;5;129;01mis\u001b[39;00m \u001b[38;5;129;01mnot\u001b[39;00m \u001b[38;5;28;01mNone\u001b[39;00m\n\u001b[0;32m   1891\u001b[0m f \u001b[38;5;241m=\u001b[39m \u001b[38;5;28mself\u001b[39m\u001b[38;5;241m.\u001b[39mhandles\u001b[38;5;241m.\u001b[39mhandle\n",
      "File \u001b[1;32m~\\AppData\\Local\\Programs\\Python\\Python312\\Lib\\site-packages\\pandas\\io\\common.py:873\u001b[0m, in \u001b[0;36mget_handle\u001b[1;34m(path_or_buf, mode, encoding, compression, memory_map, is_text, errors, storage_options)\u001b[0m\n\u001b[0;32m    868\u001b[0m \u001b[38;5;28;01melif\u001b[39;00m \u001b[38;5;28misinstance\u001b[39m(handle, \u001b[38;5;28mstr\u001b[39m):\n\u001b[0;32m    869\u001b[0m     \u001b[38;5;66;03m# Check whether the filename is to be opened in binary mode.\u001b[39;00m\n\u001b[0;32m    870\u001b[0m     \u001b[38;5;66;03m# Binary mode does not support 'encoding' and 'newline'.\u001b[39;00m\n\u001b[0;32m    871\u001b[0m     \u001b[38;5;28;01mif\u001b[39;00m ioargs\u001b[38;5;241m.\u001b[39mencoding \u001b[38;5;129;01mand\u001b[39;00m \u001b[38;5;124m\"\u001b[39m\u001b[38;5;124mb\u001b[39m\u001b[38;5;124m\"\u001b[39m \u001b[38;5;129;01mnot\u001b[39;00m \u001b[38;5;129;01min\u001b[39;00m ioargs\u001b[38;5;241m.\u001b[39mmode:\n\u001b[0;32m    872\u001b[0m         \u001b[38;5;66;03m# Encoding\u001b[39;00m\n\u001b[1;32m--> 873\u001b[0m         handle \u001b[38;5;241m=\u001b[39m \u001b[38;5;28;43mopen\u001b[39;49m\u001b[43m(\u001b[49m\n\u001b[0;32m    874\u001b[0m \u001b[43m            \u001b[49m\u001b[43mhandle\u001b[49m\u001b[43m,\u001b[49m\n\u001b[0;32m    875\u001b[0m \u001b[43m            \u001b[49m\u001b[43mioargs\u001b[49m\u001b[38;5;241;43m.\u001b[39;49m\u001b[43mmode\u001b[49m\u001b[43m,\u001b[49m\n\u001b[0;32m    876\u001b[0m \u001b[43m            \u001b[49m\u001b[43mencoding\u001b[49m\u001b[38;5;241;43m=\u001b[39;49m\u001b[43mioargs\u001b[49m\u001b[38;5;241;43m.\u001b[39;49m\u001b[43mencoding\u001b[49m\u001b[43m,\u001b[49m\n\u001b[0;32m    877\u001b[0m \u001b[43m            \u001b[49m\u001b[43merrors\u001b[49m\u001b[38;5;241;43m=\u001b[39;49m\u001b[43merrors\u001b[49m\u001b[43m,\u001b[49m\n\u001b[0;32m    878\u001b[0m \u001b[43m            \u001b[49m\u001b[43mnewline\u001b[49m\u001b[38;5;241;43m=\u001b[39;49m\u001b[38;5;124;43m\"\u001b[39;49m\u001b[38;5;124;43m\"\u001b[39;49m\u001b[43m,\u001b[49m\n\u001b[0;32m    879\u001b[0m \u001b[43m        \u001b[49m\u001b[43m)\u001b[49m\n\u001b[0;32m    880\u001b[0m     \u001b[38;5;28;01melse\u001b[39;00m:\n\u001b[0;32m    881\u001b[0m         \u001b[38;5;66;03m# Binary mode\u001b[39;00m\n\u001b[0;32m    882\u001b[0m         handle \u001b[38;5;241m=\u001b[39m \u001b[38;5;28mopen\u001b[39m(handle, ioargs\u001b[38;5;241m.\u001b[39mmode)\n",
      "\u001b[1;31mFileNotFoundError\u001b[0m: [Errno 2] No such file or directory: 'moved_project_sql_result_01.csv'"
     ]
    }
   ],
   "source": [
    "table_1=pd.read_csv('moved_project_sql_result_01.csv')\n",
    "table_2=pd.read_csv('moved_project_sql_result_04.csv')\n",
    "table_3=pd.read_csv('moved_project_sql_result_07.csv')"
   ]
  },
  {
   "cell_type": "markdown",
   "id": "1f293e9a-8a9d-4dad-955e-a70d289311ca",
   "metadata": {},
   "source": [
    "Data exploration:"
   ]
  },
  {
   "cell_type": "code",
   "execution_count": 6,
   "id": "e72b4c05-f8b3-4f30-a4c9-e2c458d21328",
   "metadata": {},
   "outputs": [
    {
     "ename": "NameError",
     "evalue": "name 'table_1' is not defined",
     "output_type": "error",
     "traceback": [
      "\u001b[1;31m---------------------------------------------------------------------------\u001b[0m",
      "\u001b[1;31mNameError\u001b[0m                                 Traceback (most recent call last)",
      "Cell \u001b[1;32mIn[6], line 1\u001b[0m\n\u001b[1;32m----> 1\u001b[0m \u001b[43mtable_1\u001b[49m\u001b[38;5;241m.\u001b[39minfo()\n\u001b[0;32m      2\u001b[0m \u001b[38;5;28mprint\u001b[39m()\n\u001b[0;32m      3\u001b[0m table_1\u001b[38;5;241m.\u001b[39mhead()\n",
      "\u001b[1;31mNameError\u001b[0m: name 'table_1' is not defined"
     ]
    }
   ],
   "source": [
    "table_1.info()\n",
    "print()\n",
    "table_1.head()"
   ]
  },
  {
   "cell_type": "markdown",
   "id": "3f7ab18a-5a9d-4376-ac33-cad82e0593c7",
   "metadata": {},
   "source": [
    "It is observed that Table 1 has two columns named company_name and trips_amount, both of which contain no missing values. The data types in the table are appropriate for the content."
   ]
  },
  {
   "cell_type": "code",
   "execution_count": 7,
   "id": "df2e1788-2cad-4bdd-97be-be37a7eddf72",
   "metadata": {},
   "outputs": [
    {
     "ename": "NameError",
     "evalue": "name 'table_2' is not defined",
     "output_type": "error",
     "traceback": [
      "\u001b[1;31m---------------------------------------------------------------------------\u001b[0m",
      "\u001b[1;31mNameError\u001b[0m                                 Traceback (most recent call last)",
      "Cell \u001b[1;32mIn[7], line 1\u001b[0m\n\u001b[1;32m----> 1\u001b[0m \u001b[43mtable_2\u001b[49m\u001b[38;5;241m.\u001b[39minfo()\n\u001b[0;32m      2\u001b[0m \u001b[38;5;28mprint\u001b[39m()\n\u001b[0;32m      3\u001b[0m table_2\u001b[38;5;241m.\u001b[39mhead()\n",
      "\u001b[1;31mNameError\u001b[0m: name 'table_2' is not defined"
     ]
    }
   ],
   "source": [
    "table_2.info()\n",
    "print()\n",
    "table_2.head()"
   ]
  },
  {
   "cell_type": "markdown",
   "id": "a792b9b6-2c02-4d3c-a05d-847be7b35bf4",
   "metadata": {},
   "source": [
    "It is observed that Table 2 has two columns named dropoff_location_name and average_trips, both of which contain no missing values. The data types are suitable for the values contained in the columns."
   ]
  },
  {
   "cell_type": "code",
   "execution_count": 8,
   "id": "79a326ca-0bab-42c1-9354-3fe92c141f90",
   "metadata": {},
   "outputs": [
    {
     "ename": "NameError",
     "evalue": "name 'table_3' is not defined",
     "output_type": "error",
     "traceback": [
      "\u001b[1;31m---------------------------------------------------------------------------\u001b[0m",
      "\u001b[1;31mNameError\u001b[0m                                 Traceback (most recent call last)",
      "Cell \u001b[1;32mIn[8], line 1\u001b[0m\n\u001b[1;32m----> 1\u001b[0m \u001b[43mtable_3\u001b[49m\u001b[38;5;241m.\u001b[39minfo()\n\u001b[0;32m      2\u001b[0m \u001b[38;5;28mprint\u001b[39m()\n\u001b[0;32m      3\u001b[0m table_3\u001b[38;5;241m.\u001b[39mhead()\n",
      "\u001b[1;31mNameError\u001b[0m: name 'table_3' is not defined"
     ]
    }
   ],
   "source": [
    "table_3.info()\n",
    "print()\n",
    "table_3.head()"
   ]
  },
  {
   "cell_type": "markdown",
   "id": "7e69b81c-7b59-4d93-8d65-06d447270d22",
   "metadata": {},
   "source": [
    "It is observed that Table 3 has three columns named start_ts, weather_conditions, and duration_seconds. The start_ts column contains date values; however, the data type is incorrect and should be converted accordingly."
   ]
  },
  {
   "cell_type": "markdown",
   "id": "ce1a255a-6d3b-4a10-bc35-39df794246cc",
   "metadata": {},
   "source": [
    "<h3>Inspection of duplicated values and data type correction</h3>"
   ]
  },
  {
   "cell_type": "code",
   "execution_count": 9,
   "id": "db6c521c-a9ef-4bc9-9865-18063c864b53",
   "metadata": {},
   "outputs": [
    {
     "ename": "NameError",
     "evalue": "name 'table_1' is not defined",
     "output_type": "error",
     "traceback": [
      "\u001b[1;31m---------------------------------------------------------------------------\u001b[0m",
      "\u001b[1;31mNameError\u001b[0m                                 Traceback (most recent call last)",
      "Cell \u001b[1;32mIn[9], line 1\u001b[0m\n\u001b[1;32m----> 1\u001b[0m \u001b[38;5;28mprint\u001b[39m(\u001b[43mtable_1\u001b[49m\u001b[38;5;241m.\u001b[39mduplicated()\u001b[38;5;241m.\u001b[39msum())\n\u001b[0;32m      2\u001b[0m \u001b[38;5;28mprint\u001b[39m()\n\u001b[0;32m      3\u001b[0m \u001b[38;5;28mprint\u001b[39m(table_2\u001b[38;5;241m.\u001b[39mduplicated()\u001b[38;5;241m.\u001b[39msum())\n",
      "\u001b[1;31mNameError\u001b[0m: name 'table_1' is not defined"
     ]
    }
   ],
   "source": [
    "print(table_1.duplicated().sum())\n",
    "print()\n",
    "print(table_2.duplicated().sum())\n",
    "print()\n",
    "print(table_3.duplicated().sum())"
   ]
  },
  {
   "cell_type": "code",
   "execution_count": 10,
   "id": "4dd9e3ef-d898-44e8-bdfb-17b4de90847f",
   "metadata": {},
   "outputs": [
    {
     "ename": "NameError",
     "evalue": "name 'table_3' is not defined",
     "output_type": "error",
     "traceback": [
      "\u001b[1;31m---------------------------------------------------------------------------\u001b[0m",
      "\u001b[1;31mNameError\u001b[0m                                 Traceback (most recent call last)",
      "Cell \u001b[1;32mIn[10], line 1\u001b[0m\n\u001b[1;32m----> 1\u001b[0m duplicated_3\u001b[38;5;241m=\u001b[39m\u001b[43mtable_3\u001b[49m\u001b[38;5;241m.\u001b[39mduplicated()\n\u001b[0;32m      2\u001b[0m table_3[\u001b[38;5;124m'\u001b[39m\u001b[38;5;124mduplicated\u001b[39m\u001b[38;5;124m'\u001b[39m]\u001b[38;5;241m=\u001b[39mduplicated_3\n\u001b[0;32m      3\u001b[0m duplicated_rows\u001b[38;5;241m=\u001b[39m table_3[table_3[\u001b[38;5;124m'\u001b[39m\u001b[38;5;124mduplicated\u001b[39m\u001b[38;5;124m'\u001b[39m]\u001b[38;5;241m==\u001b[39m\u001b[38;5;28;01mTrue\u001b[39;00m]\n",
      "\u001b[1;31mNameError\u001b[0m: name 'table_3' is not defined"
     ]
    }
   ],
   "source": [
    "duplicated_3=table_3.duplicated()\n",
    "table_3['duplicated']=duplicated_3\n",
    "duplicated_rows= table_3[table_3['duplicated']==True]\n",
    "print(duplicated_rows.head(10))"
   ]
  },
  {
   "cell_type": "markdown",
   "id": "ba459bec-bf50-46eb-8c34-11cfda194289",
   "metadata": {},
   "source": [
    "It is observed that Table 1 and Table 2 do not contain any duplicate rows. In the case of Table 3, some rows appear to be duplicates, but this may be due to the incorrect data type. The data type of the start_ts column will be corrected, and a new check for duplicate rows will be performed."
   ]
  },
  {
   "cell_type": "code",
   "execution_count": 11,
   "id": "e5f4de0c-9f72-4219-930f-0b180ede8d10",
   "metadata": {},
   "outputs": [
    {
     "ename": "NameError",
     "evalue": "name 'table_3' is not defined",
     "output_type": "error",
     "traceback": [
      "\u001b[1;31m---------------------------------------------------------------------------\u001b[0m",
      "\u001b[1;31mNameError\u001b[0m                                 Traceback (most recent call last)",
      "Cell \u001b[1;32mIn[11], line 1\u001b[0m\n\u001b[1;32m----> 1\u001b[0m table_3[\u001b[38;5;124m'\u001b[39m\u001b[38;5;124mstart_ts\u001b[39m\u001b[38;5;124m'\u001b[39m]\u001b[38;5;241m=\u001b[39mpd\u001b[38;5;241m.\u001b[39mto_datetime(\u001b[43mtable_3\u001b[49m[\u001b[38;5;124m'\u001b[39m\u001b[38;5;124mstart_ts\u001b[39m\u001b[38;5;124m'\u001b[39m], \u001b[38;5;28mformat\u001b[39m\u001b[38;5;241m=\u001b[39m\u001b[38;5;124m'\u001b[39m\u001b[38;5;124m%\u001b[39m\u001b[38;5;124mY-\u001b[39m\u001b[38;5;124m%\u001b[39m\u001b[38;5;124mm-\u001b[39m\u001b[38;5;132;01m%d\u001b[39;00m\u001b[38;5;124m \u001b[39m\u001b[38;5;124m%\u001b[39m\u001b[38;5;124mH:\u001b[39m\u001b[38;5;124m%\u001b[39m\u001b[38;5;124mM:\u001b[39m\u001b[38;5;124m%\u001b[39m\u001b[38;5;124mS\u001b[39m\u001b[38;5;124m'\u001b[39m)\n\u001b[0;32m      2\u001b[0m table_3\u001b[38;5;241m=\u001b[39mtable_3\u001b[38;5;241m.\u001b[39mdrop(\u001b[38;5;124m'\u001b[39m\u001b[38;5;124mduplicated\u001b[39m\u001b[38;5;124m'\u001b[39m, axis\u001b[38;5;241m=\u001b[39m\u001b[38;5;241m1\u001b[39m)\n\u001b[0;32m      3\u001b[0m table_3\u001b[38;5;241m.\u001b[39minfo()\n",
      "\u001b[1;31mNameError\u001b[0m: name 'table_3' is not defined"
     ]
    }
   ],
   "source": [
    "table_3['start_ts']=pd.to_datetime(table_3['start_ts'], format='%Y-%m-%d %H:%M:%S')\n",
    "table_3=table_3.drop('duplicated', axis=1)\n",
    "table_3.info()\n",
    "print()\n",
    "table_3.head(10)"
   ]
  },
  {
   "cell_type": "code",
   "execution_count": 12,
   "id": "3330c064-45fc-4a08-bd9f-3a42b11d5838",
   "metadata": {},
   "outputs": [
    {
     "ename": "NameError",
     "evalue": "name 'table_3' is not defined",
     "output_type": "error",
     "traceback": [
      "\u001b[1;31m---------------------------------------------------------------------------\u001b[0m",
      "\u001b[1;31mNameError\u001b[0m                                 Traceback (most recent call last)",
      "Cell \u001b[1;32mIn[12], line 1\u001b[0m\n\u001b[1;32m----> 1\u001b[0m duplicated_3\u001b[38;5;241m=\u001b[39m\u001b[43mtable_3\u001b[49m\u001b[38;5;241m.\u001b[39mduplicated()\n\u001b[0;32m      2\u001b[0m table_3[\u001b[38;5;124m'\u001b[39m\u001b[38;5;124mduplicated\u001b[39m\u001b[38;5;124m'\u001b[39m]\u001b[38;5;241m=\u001b[39mduplicated_3\n\u001b[0;32m      3\u001b[0m duplicated_rows\u001b[38;5;241m=\u001b[39m table_3[table_3[\u001b[38;5;124m'\u001b[39m\u001b[38;5;124mduplicated\u001b[39m\u001b[38;5;124m'\u001b[39m]\u001b[38;5;241m==\u001b[39m\u001b[38;5;28;01mTrue\u001b[39;00m]\n",
      "\u001b[1;31mNameError\u001b[0m: name 'table_3' is not defined"
     ]
    }
   ],
   "source": [
    "duplicated_3=table_3.duplicated()\n",
    "table_3['duplicated']=duplicated_3\n",
    "duplicated_rows= table_3[table_3['duplicated']==True]\n",
    "print(duplicated_rows.head(10))\n",
    "print()\n",
    "print(table_3.duplicated().sum())"
   ]
  },
  {
   "cell_type": "markdown",
   "id": "2c2cb958-2823-4042-bd8a-6501a52a3767",
   "metadata": {},
   "source": [
    "After applying the data type conversion, the number of duplicate entries decreased from 197 to 82. It is possible that more than one trip was recorded for the same timestamp. These will be marked as duplicate trips, and further analysis will determine whether including or excluding these records impacts the results."
   ]
  },
  {
   "cell_type": "markdown",
   "id": "5898b570-0dbb-4901-8b86-ea94de6c5b3e",
   "metadata": {},
   "source": [
    "<h3>Analysis of the Top 10 Destination Locations</h3>"
   ]
  },
  {
   "cell_type": "markdown",
   "id": "d5bc131b-71b3-402e-bc0a-6e1806da19cc",
   "metadata": {},
   "source": [
    "Table 2 contains information on the average number of trips associated with each destination. The table will be sorted by average number of trips in descending order, and the top 10 rows will be selected to identify the most popular destinations."
   ]
  },
  {
   "cell_type": "code",
   "execution_count": 13,
   "id": "a46ef270-9027-4a76-bd5a-b28d6c709d8c",
   "metadata": {},
   "outputs": [
    {
     "ename": "NameError",
     "evalue": "name 'table_2' is not defined",
     "output_type": "error",
     "traceback": [
      "\u001b[1;31m---------------------------------------------------------------------------\u001b[0m",
      "\u001b[1;31mNameError\u001b[0m                                 Traceback (most recent call last)",
      "Cell \u001b[1;32mIn[13], line 1\u001b[0m\n\u001b[1;32m----> 1\u001b[0m top_10_destinations\u001b[38;5;241m=\u001b[39m\u001b[43mtable_2\u001b[49m\u001b[38;5;241m.\u001b[39msort_values(by\u001b[38;5;241m=\u001b[39m\u001b[38;5;124m'\u001b[39m\u001b[38;5;124maverage_trips\u001b[39m\u001b[38;5;124m'\u001b[39m, ascending\u001b[38;5;241m=\u001b[39m\u001b[38;5;28;01mFalse\u001b[39;00m)\u001b[38;5;241m.\u001b[39mhead(\u001b[38;5;241m10\u001b[39m)\n\u001b[0;32m      2\u001b[0m \u001b[38;5;28mprint\u001b[39m(top_10_destinations)\n",
      "\u001b[1;31mNameError\u001b[0m: name 'table_2' is not defined"
     ]
    }
   ],
   "source": [
    "top_10_destinations=table_2.sort_values(by='average_trips', ascending=False).head(10)\n",
    "print(top_10_destinations)"
   ]
  },
  {
   "cell_type": "code",
   "execution_count": 14,
   "id": "8273261c-e75a-4437-a5da-e5f16a01d3b0",
   "metadata": {},
   "outputs": [
    {
     "ename": "NameError",
     "evalue": "name 'top_10_destinations' is not defined",
     "output_type": "error",
     "traceback": [
      "\u001b[1;31m---------------------------------------------------------------------------\u001b[0m",
      "\u001b[1;31mNameError\u001b[0m                                 Traceback (most recent call last)",
      "Cell \u001b[1;32mIn[14], line 1\u001b[0m\n\u001b[1;32m----> 1\u001b[0m \u001b[43mtop_10_destinations\u001b[49m\u001b[38;5;241m.\u001b[39mplot(x\u001b[38;5;241m=\u001b[39m\u001b[38;5;124m'\u001b[39m\u001b[38;5;124mdropoff_location_name\u001b[39m\u001b[38;5;124m'\u001b[39m, y\u001b[38;5;241m=\u001b[39m \u001b[38;5;124m'\u001b[39m\u001b[38;5;124maverage_trips\u001b[39m\u001b[38;5;124m'\u001b[39m,kind\u001b[38;5;241m=\u001b[39m\u001b[38;5;124m'\u001b[39m\u001b[38;5;124mbar\u001b[39m\u001b[38;5;124m'\u001b[39m, title\u001b[38;5;241m=\u001b[39m\u001b[38;5;124m\"\u001b[39m\u001b[38;5;124mAverage number of trips towards the ten most visited destinations\u001b[39m\u001b[38;5;124m\"\u001b[39m,xlabel\u001b[38;5;241m=\u001b[39m\u001b[38;5;124m'\u001b[39m\u001b[38;5;124mNombre del destino\u001b[39m\u001b[38;5;124m'\u001b[39m, ylabel\u001b[38;5;241m=\u001b[39m\u001b[38;5;124m'\u001b[39m\u001b[38;5;124mNúmero promedio de viajes\u001b[39m\u001b[38;5;124m'\u001b[39m)\n\u001b[0;32m      2\u001b[0m plt\u001b[38;5;241m.\u001b[39mshow()\n",
      "\u001b[1;31mNameError\u001b[0m: name 'top_10_destinations' is not defined"
     ]
    }
   ],
   "source": [
    "top_10_destinations.plot(x='dropoff_location_name', y= 'average_trips',kind='bar', title=\"Average number of trips towards the ten most visited destinations\",xlabel='Nombre del destino', ylabel='Número promedio de viajes')\n",
    "plt.show()"
   ]
  },
  {
   "cell_type": "markdown",
   "id": "a24e0829-8c68-4c8b-b7f8-d4cf8c41afad",
   "metadata": {},
   "source": [
    "From this analysis it was observer that the most popular destination is Loop with mor than tenthousand trips."
   ]
  },
  {
   "cell_type": "markdown",
   "id": "f2a2dc7c-5205-4998-a2b3-a4b4eab576b8",
   "metadata": {},
   "source": [
    "<h3> Analysis of Number of Trips per Company </h3> \n",
    "\n",
    "Table 1 contains information on the number of trips by company. The table will be sorted in descending order by number of trips to identify the 10 companies with the highest trip counts during the period from November 15 to 16, 2017. The describe method will be used to examine the distribution of trip numbers and identify any outliers."
   ]
  },
  {
   "cell_type": "code",
   "execution_count": 15,
   "id": "2245b1e6-7a45-4543-83b3-3c1ce8a2ff24",
   "metadata": {},
   "outputs": [
    {
     "ename": "NameError",
     "evalue": "name 'table_1' is not defined",
     "output_type": "error",
     "traceback": [
      "\u001b[1;31m---------------------------------------------------------------------------\u001b[0m",
      "\u001b[1;31mNameError\u001b[0m                                 Traceback (most recent call last)",
      "Cell \u001b[1;32mIn[15], line 1\u001b[0m\n\u001b[1;32m----> 1\u001b[0m top_10_companies\u001b[38;5;241m=\u001b[39m\u001b[43mtable_1\u001b[49m\u001b[38;5;241m.\u001b[39msort_values(by\u001b[38;5;241m=\u001b[39m\u001b[38;5;124m'\u001b[39m\u001b[38;5;124mtrips_amount\u001b[39m\u001b[38;5;124m'\u001b[39m, ascending\u001b[38;5;241m=\u001b[39m\u001b[38;5;28;01mFalse\u001b[39;00m)\u001b[38;5;241m.\u001b[39mhead(\u001b[38;5;241m10\u001b[39m)\n\u001b[0;32m      2\u001b[0m \u001b[38;5;28mprint\u001b[39m(top_10_companies)\n",
      "\u001b[1;31mNameError\u001b[0m: name 'table_1' is not defined"
     ]
    }
   ],
   "source": [
    "top_10_companies=table_1.sort_values(by='trips_amount', ascending=False).head(10)\n",
    "print(top_10_companies)"
   ]
  },
  {
   "cell_type": "code",
   "execution_count": 16,
   "id": "8e409f84-6f9f-4c7f-a097-01f029634072",
   "metadata": {},
   "outputs": [
    {
     "ename": "NameError",
     "evalue": "name 'table_1' is not defined",
     "output_type": "error",
     "traceback": [
      "\u001b[1;31m---------------------------------------------------------------------------\u001b[0m",
      "\u001b[1;31mNameError\u001b[0m                                 Traceback (most recent call last)",
      "Cell \u001b[1;32mIn[16], line 1\u001b[0m\n\u001b[1;32m----> 1\u001b[0m \u001b[38;5;28mprint\u001b[39m(\u001b[43mtable_1\u001b[49m\u001b[38;5;241m.\u001b[39mdescribe())\n",
      "\u001b[1;31mNameError\u001b[0m: name 'table_1' is not defined"
     ]
    }
   ],
   "source": [
    "print(table_1.describe())"
   ]
  },
  {
   "cell_type": "markdown",
   "id": "d5c9dd9d-0b2d-4426-9a1a-4b38377f928d",
   "metadata": {},
   "source": [
    "It is observed that the number of trips per company varies significantly, with a large disparity between the company with the highest number of trips and the one with the fewest. "
   ]
  },
  {
   "cell_type": "code",
   "execution_count": 17,
   "id": "f96b5b7a-f445-499f-886f-d994b2879a3c",
   "metadata": {},
   "outputs": [
    {
     "ename": "NameError",
     "evalue": "name 'top_10_companies' is not defined",
     "output_type": "error",
     "traceback": [
      "\u001b[1;31m---------------------------------------------------------------------------\u001b[0m",
      "\u001b[1;31mNameError\u001b[0m                                 Traceback (most recent call last)",
      "Cell \u001b[1;32mIn[17], line 1\u001b[0m\n\u001b[1;32m----> 1\u001b[0m \u001b[43mtop_10_companies\u001b[49m\u001b[38;5;241m.\u001b[39mplot(x\u001b[38;5;241m=\u001b[39m\u001b[38;5;124m'\u001b[39m\u001b[38;5;124mcompany_name\u001b[39m\u001b[38;5;124m'\u001b[39m, y\u001b[38;5;241m=\u001b[39m \u001b[38;5;124m'\u001b[39m\u001b[38;5;124mtrips_amount\u001b[39m\u001b[38;5;124m'\u001b[39m,kind\u001b[38;5;241m=\u001b[39m\u001b[38;5;124m'\u001b[39m\u001b[38;5;124mbar\u001b[39m\u001b[38;5;124m'\u001b[39m, title\u001b[38;5;241m=\u001b[39m\u001b[38;5;124m\"\u001b[39m\u001b[38;5;124mNumber of trips for the then most popular transpor companies\u001b[39m\u001b[38;5;124m\"\u001b[39m,xlabel\u001b[38;5;241m=\u001b[39m\u001b[38;5;124m'\u001b[39m\u001b[38;5;124mNombre de la compañia\u001b[39m\u001b[38;5;124m'\u001b[39m, ylabel\u001b[38;5;241m=\u001b[39m\u001b[38;5;124m'\u001b[39m\u001b[38;5;124mNúmero promedio de viajes\u001b[39m\u001b[38;5;124m'\u001b[39m)\n\u001b[0;32m      2\u001b[0m plt\u001b[38;5;241m.\u001b[39mshow()\n",
      "\u001b[1;31mNameError\u001b[0m: name 'top_10_companies' is not defined"
     ]
    }
   ],
   "source": [
    "top_10_companies.plot(x='company_name', y= 'trips_amount',kind='bar', title=\"Number of trips for the then most popular transpor companies\",xlabel='Nombre de la compañia', ylabel='Número promedio de viajes')\n",
    "plt.show()"
   ]
  },
  {
   "cell_type": "markdown",
   "id": "30c5991e-590c-40fa-9094-b8b79a45abe8",
   "metadata": {},
   "source": [
    "Notably, the most popular company recorded a substantially higher number of trips than the next nine most popular companies."
   ]
  },
  {
   "cell_type": "markdown",
   "id": "4c06d29a-1c84-4b32-bd9f-bcbbd6e934ff",
   "metadata": {},
   "source": [
    "<h3> Hypotesis test </h3>\n",
    "\n",
    "<h4> Objective: </h4> \n",
    "To estimate whether weather conditions affect the trip duration. A two-tailed test with an alpha level of 0.05 will be performed, as the goal is to assess whether there is a significant difference between the means. Trip duration data will first be divided into two groups: trips taken in good weather and those taken in rainy conditions. A t-test will then be used to evaluate whether there is a statistically significant difference between the mean trip durations of the two groups."
   ]
  },
  {
   "cell_type": "code",
   "execution_count": 18,
   "id": "49acd5be-7142-4614-92f4-acb78baca509",
   "metadata": {
    "scrolled": true
   },
   "outputs": [
    {
     "ename": "NameError",
     "evalue": "name 'table_3' is not defined",
     "output_type": "error",
     "traceback": [
      "\u001b[1;31m---------------------------------------------------------------------------\u001b[0m",
      "\u001b[1;31mNameError\u001b[0m                                 Traceback (most recent call last)",
      "Cell \u001b[1;32mIn[18], line 1\u001b[0m\n\u001b[1;32m----> 1\u001b[0m good_weather\u001b[38;5;241m=\u001b[39m\u001b[43mtable_3\u001b[49m[table_3[\u001b[38;5;124m'\u001b[39m\u001b[38;5;124mweather_conditions\u001b[39m\u001b[38;5;124m'\u001b[39m]\u001b[38;5;241m==\u001b[39m\u001b[38;5;124m'\u001b[39m\u001b[38;5;124mGood\u001b[39m\u001b[38;5;124m'\u001b[39m]\n\u001b[0;32m      2\u001b[0m good_weather\u001b[38;5;241m.\u001b[39mhead(\u001b[38;5;241m10\u001b[39m)\n\u001b[0;32m      3\u001b[0m \u001b[38;5;28mprint\u001b[39m()\n",
      "\u001b[1;31mNameError\u001b[0m: name 'table_3' is not defined"
     ]
    }
   ],
   "source": [
    "good_weather=table_3[table_3['weather_conditions']=='Good']\n",
    "good_weather.head(10)\n",
    "print()\n",
    "rain_weather=table_3[table_3['weather_conditions']=='Bad']\n",
    "rain_weather.head(10)"
   ]
  },
  {
   "cell_type": "code",
   "execution_count": 19,
   "id": "e8f8d960-0fb8-4bc2-b4ae-543f4a44ff2f",
   "metadata": {},
   "outputs": [
    {
     "ename": "NameError",
     "evalue": "name 'good_weather' is not defined",
     "output_type": "error",
     "traceback": [
      "\u001b[1;31m---------------------------------------------------------------------------\u001b[0m",
      "\u001b[1;31mNameError\u001b[0m                                 Traceback (most recent call last)",
      "Cell \u001b[1;32mIn[19], line 1\u001b[0m\n\u001b[1;32m----> 1\u001b[0m results\u001b[38;5;241m=\u001b[39m st\u001b[38;5;241m.\u001b[39mttest_ind(\u001b[43mgood_weather\u001b[49m[\u001b[38;5;124m'\u001b[39m\u001b[38;5;124mduration_seconds\u001b[39m\u001b[38;5;124m'\u001b[39m],rain_weather[\u001b[38;5;124m'\u001b[39m\u001b[38;5;124mduration_seconds\u001b[39m\u001b[38;5;124m'\u001b[39m])\n\u001b[0;32m      3\u001b[0m \u001b[38;5;28mprint\u001b[39m(\u001b[38;5;124m'\u001b[39m\u001b[38;5;124mvalor p: \u001b[39m\u001b[38;5;124m'\u001b[39m, results\u001b[38;5;241m.\u001b[39mpvalue)\n\u001b[0;32m      5\u001b[0m \u001b[38;5;28;01mif\u001b[39;00m results\u001b[38;5;241m.\u001b[39mpvalue \u001b[38;5;241m<\u001b[39m \u001b[38;5;241m0.05\u001b[39m:\n",
      "\u001b[1;31mNameError\u001b[0m: name 'good_weather' is not defined"
     ]
    }
   ],
   "source": [
    "results= st.ttest_ind(good_weather['duration_seconds'],rain_weather['duration_seconds'])\n",
    "\n",
    "print('valor p: ', results.pvalue)\n",
    "\n",
    "if results.pvalue < 0.05:\n",
    "    print(\"Nule hypothesis rejected: It is possible to conclude that there is a significative relationship between the weather and the trip duration\")\n",
    "else: \n",
    "    print('Nule hypothesis can not be rejected: there is no significative relationship between the weather and the trip duration')"
   ]
  },
  {
   "cell_type": "code",
   "execution_count": 20,
   "id": "b83ac0c0-75fb-4268-8221-48b0899e3ad7",
   "metadata": {},
   "outputs": [
    {
     "ename": "NameError",
     "evalue": "name 'good_weather' is not defined",
     "output_type": "error",
     "traceback": [
      "\u001b[1;31m---------------------------------------------------------------------------\u001b[0m",
      "\u001b[1;31mNameError\u001b[0m                                 Traceback (most recent call last)",
      "Cell \u001b[1;32mIn[20], line 1\u001b[0m\n\u001b[1;32m----> 1\u001b[0m good_weather_avg\u001b[38;5;241m=\u001b[39m\u001b[43mgood_weather\u001b[49m[\u001b[38;5;124m'\u001b[39m\u001b[38;5;124mduration_seconds\u001b[39m\u001b[38;5;124m'\u001b[39m]\u001b[38;5;241m.\u001b[39mmean()\n\u001b[0;32m      2\u001b[0m \u001b[38;5;28mprint\u001b[39m(good_weather_avg)\n\u001b[0;32m      3\u001b[0m \u001b[38;5;28mprint\u001b[39m()\n",
      "\u001b[1;31mNameError\u001b[0m: name 'good_weather' is not defined"
     ]
    }
   ],
   "source": [
    "good_weather_avg=good_weather['duration_seconds'].mean()\n",
    "print(good_weather_avg)\n",
    "print()\n",
    "rain_weather_avg=rain_weather['duration_seconds'].mean()\n",
    "print(rain_weather_avg)"
   ]
  },
  {
   "cell_type": "markdown",
   "id": "07a0f3f8-7d6c-4162-a949-5d081ca623d8",
   "metadata": {},
   "source": [
    "<h2>Conclusions of the Analysis</h2>\n",
    "\n",
    "The analysis identified the 10 most popular travel destinations and the 10 companies with the highest number of recorded trips during the period from November 15 to 16, 2017.\n",
    "\n",
    "The most popular destination was Loop, with an average of over 10,000 trips to that location.\n",
    "\n",
    "The most popular company was Flash Cab, with more than 19,000 trips recorded.\n",
    "\n",
    "Finally, the analysis also revealed that rain significantly affects the duration of trips between Loop and O’Hare. The average trip duration in rainy conditions was found to be nearly twice as long as in good weather."
   ]
  }
 ],
 "metadata": {
  "kernelspec": {
   "display_name": "Python 3 (ipykernel)",
   "language": "python",
   "name": "python3"
  },
  "language_info": {
   "codemirror_mode": {
    "name": "ipython",
    "version": 3
   },
   "file_extension": ".py",
   "mimetype": "text/x-python",
   "name": "python",
   "nbconvert_exporter": "python",
   "pygments_lexer": "ipython3",
   "version": "3.12.4"
  }
 },
 "nbformat": 4,
 "nbformat_minor": 5
}
